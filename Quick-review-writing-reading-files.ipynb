{
 "cells": [
  {
   "cell_type": "markdown",
   "id": "212ca818",
   "metadata": {},
   "source": [
    "# Quick review writing/reading files"
   ]
  },
  {
   "cell_type": "markdown",
   "id": "507dffc2",
   "metadata": {},
   "source": [
    "### Quick review on writing to a csv file"
   ]
  },
  {
   "cell_type": "code",
   "execution_count": 11,
   "id": "121d2680",
   "metadata": {},
   "outputs": [],
   "source": [
    "from faker import Faker\n",
    "import csv"
   ]
  },
  {
   "cell_type": "code",
   "execution_count": 2,
   "id": "dc0049db",
   "metadata": {},
   "outputs": [],
   "source": [
    "output = open('/home/parallels/local/data-engineering-practice/data1.csv', 'w')"
   ]
  },
  {
   "cell_type": "code",
   "execution_count": 3,
   "id": "c61dcc45",
   "metadata": {},
   "outputs": [],
   "source": [
    "fake = Faker()"
   ]
  },
  {
   "cell_type": "code",
   "execution_count": 4,
   "id": "9b9be02e",
   "metadata": {},
   "outputs": [],
   "source": [
    "headers = ['name', 'age', 'street', 'city', 'state', 'zipcode', 'phone', 'email']"
   ]
  },
  {
   "cell_type": "code",
   "execution_count": 5,
   "id": "20857362",
   "metadata": {},
   "outputs": [
    {
     "data": {
      "text/plain": [
       "48"
      ]
     },
     "execution_count": 5,
     "metadata": {},
     "output_type": "execute_result"
    }
   ],
   "source": [
    "myWriter = csv.writer(output)\n",
    "myWriter.writerow(headers)"
   ]
  },
  {
   "cell_type": "code",
   "execution_count": 6,
   "id": "2d385d06",
   "metadata": {},
   "outputs": [],
   "source": [
    "for i in range(100):\n",
    "    data = [fake.name(), \n",
    "            fake.random_int(min=0, max=120), \n",
    "            fake.street_address(), \n",
    "            fake.city(), \n",
    "            fake.state(), \n",
    "            fake.zipcode(), \n",
    "            fake.phone_number(), \n",
    "            fake.email()]\n",
    "    \n",
    "    myWriter.writerow(data)"
   ]
  },
  {
   "cell_type": "code",
   "execution_count": 7,
   "id": "07aec170",
   "metadata": {},
   "outputs": [],
   "source": [
    "output.close()"
   ]
  },
  {
   "cell_type": "markdown",
   "id": "fe6af7f3",
   "metadata": {},
   "source": [
    "### Reading csv files using the context manager \"with\""
   ]
  },
  {
   "cell_type": "code",
   "execution_count": 10,
   "id": "5a37e43c",
   "metadata": {},
   "outputs": [
    {
     "name": "stdout",
     "output_type": "stream",
     "text": [
      "Katherine Davis\n",
      "Shawn Jones\n",
      "Michael Bryant\n",
      "Michelle Jackson\n",
      "James Nunez\n",
      "Courtney Bailey\n",
      "Gary Mcmillan\n",
      "Betty Webb\n",
      "Jamie Payne\n",
      "Bryan Robles\n",
      "Rebecca Rice\n",
      "Marissa Lewis\n",
      "Laurie Owens\n",
      "Kevin Warner\n",
      "Michelle Quinn\n",
      "Duane Gray\n",
      "Jeffrey May\n",
      "Andrew Valencia\n",
      "Alejandro Thompson\n",
      "Daniel Harris\n",
      "Dale Hall\n",
      "Steven Warner\n",
      "Jordan Silva\n",
      "Anna Mays\n",
      "Shannon Edwards\n",
      "Marilyn Johnson\n",
      "Wendy Rodriguez\n",
      "Alexandria Parsons\n",
      "Anthony Garcia\n",
      "Charles Jones\n",
      "Amanda Rosario\n",
      "Linda May\n",
      "Sue Dunn\n",
      "Sydney Anderson\n",
      "Wendy Small\n",
      "Shawn Dunn\n",
      "Jacob Greene\n",
      "Juan Thompson\n",
      "Brittany Osborne\n",
      "David Smith\n",
      "Kevin Johnson\n",
      "Philip Mckay\n",
      "Michael Underwood\n",
      "Katie Weeks\n",
      "Monica Hood\n",
      "Jacob Williams\n",
      "Heather Castro\n",
      "Cindy Jackson\n",
      "Amy Moore\n",
      "Thomas Mason\n",
      "Jessica Wall\n",
      "Heather Ayers\n",
      "Brian Stewart\n",
      "Raymond Fisher\n",
      "Karen Kelley\n",
      "Arthur Anderson\n",
      "Carol Greer\n",
      "William Robertson\n",
      "Jennifer Mahoney\n",
      "Christopher Tapia\n",
      "Linda Klein\n",
      "Karen Pollard\n",
      "Jade Gibbs\n",
      "Jeffrey Moore\n",
      "Elizabeth Mendez\n",
      "Mary Sparks\n",
      "Teresa Brooks\n",
      "Ashley Jackson\n",
      "Christopher Johnson PhD\n",
      "Tracey Clark\n",
      "Dr. Robert Boyd\n",
      "Richard Lee\n",
      "Austin Johnson\n",
      "Keith Ortega\n",
      "Justin Richardson\n",
      "Chelsea Steele\n",
      "Sarah Miller\n",
      "Willie Kelly\n",
      "Dr. Christopher Case\n",
      "Gloria Parsons\n",
      "Tamara Becker\n",
      "Pedro Howard\n",
      "Jesus Martinez\n",
      "Dr. Sandra Jones\n",
      "Mr. Henry Perez\n",
      "Yvonne Hall\n",
      "Michelle Ellis\n",
      "Kimberly Price\n",
      "Holly Oconnor\n",
      "Alexis Evans\n",
      "Michael Flynn\n",
      "Andrew Perez\n",
      "Douglas Henson\n",
      "Monica Mcmillan\n",
      "James Mason\n",
      "James Grimes\n",
      "Ashley Dudley\n",
      "Kimberly Howard\n",
      "Luis Mason\n",
      "Dennis Carrillo\n"
     ]
    }
   ],
   "source": [
    "with open('/home/parallels/local/data-engineering-practice/data1.csv', 'r') as f:\n",
    "    myReader = csv.DictReader(f)\n",
    "        \n",
    "    for row in myReader:\n",
    "        print(row['name'])"
   ]
  },
  {
   "cell_type": "markdown",
   "id": "4c9192a3",
   "metadata": {},
   "source": [
    "### JSON Files"
   ]
  },
  {
   "cell_type": "code",
   "execution_count": 14,
   "id": "48836a9d",
   "metadata": {},
   "outputs": [],
   "source": [
    "from faker import Faker\n",
    "import json"
   ]
  },
  {
   "cell_type": "code",
   "execution_count": 16,
   "id": "efe08289",
   "metadata": {},
   "outputs": [],
   "source": [
    "faker = Faker()\n",
    "\n",
    "with open('data2.json', 'w') as f:\n",
    "    data = {}\n",
    "    data['records'] = []\n",
    "    \n",
    "    for _ in range(10):\n",
    "        d = {'name': faker.name(),\n",
    "            'age': faker.random_int(min=0, max=120)}\n",
    "        \n",
    "        data['records'].append(d)\n",
    "    \n",
    "    json.dump(data, f)"
   ]
  },
  {
   "cell_type": "code",
   "execution_count": 41,
   "id": "1a884563",
   "metadata": {},
   "outputs": [
    {
     "name": "stdout",
     "output_type": "stream",
     "text": [
      "Gabriel Petersen\n"
     ]
    }
   ],
   "source": [
    "with open('data2.json', 'r') as f:\n",
    "    data = json.load(f)\n",
    "    \n",
    "    print(data['records'][1]['name'])"
   ]
  },
  {
   "cell_type": "code",
   "execution_count": 19,
   "id": "0f23ec79",
   "metadata": {},
   "outputs": [],
   "source": [
    "import pandas.io.json as pd_json"
   ]
  },
  {
   "cell_type": "code",
   "execution_count": 28,
   "id": "9e30591b",
   "metadata": {},
   "outputs": [
    {
     "name": "stdout",
     "output_type": "stream",
     "text": [
      "<class 'str'>\n",
      "<class 'dict'>\n",
      "<class 'pandas.core.frame.DataFrame'>\n",
      "                 name  age\n",
      "0        Olivia Boyle  112\n",
      "1    Gabriel Petersen   23\n",
      "2   William Henderson  100\n",
      "3      Robert Johnson   20\n",
      "4  Angelica Zimmerman   88\n"
     ]
    },
    {
     "name": "stderr",
     "output_type": "stream",
     "text": [
      "/tmp/ipykernel_16181/2214760858.py:7: FutureWarning: pandas.io.json.json_normalize is deprecated, use pandas.json_normalize instead.\n",
      "  df = pd_json.json_normalize(data, record_path='records') # dictionary to dataframe\n"
     ]
    }
   ],
   "source": [
    "with open('data2.json', 'r') as f:\n",
    "    data = f.read()\n",
    "    print(type(data)) \n",
    "    data = pd_json.loads(data) # loads a json string to a dictionary\n",
    "    print(type(data))\n",
    "    \n",
    "    df = pd_json.json_normalize(data, record_path='records') # dictionary to dataframe\n",
    "    print(type(df))\n",
    "    print(df.head())"
   ]
  },
  {
   "cell_type": "code",
   "execution_count": 51,
   "id": "233c1e9c",
   "metadata": {},
   "outputs": [
    {
     "data": {
      "text/html": [
       "<div>\n",
       "<style scoped>\n",
       "    .dataframe tbody tr th:only-of-type {\n",
       "        vertical-align: middle;\n",
       "    }\n",
       "\n",
       "    .dataframe tbody tr th {\n",
       "        vertical-align: top;\n",
       "    }\n",
       "\n",
       "    .dataframe thead th {\n",
       "        text-align: right;\n",
       "    }\n",
       "</style>\n",
       "<table border=\"1\" class=\"dataframe\">\n",
       "  <thead>\n",
       "    <tr style=\"text-align: right;\">\n",
       "      <th></th>\n",
       "      <th>records</th>\n",
       "    </tr>\n",
       "  </thead>\n",
       "  <tbody>\n",
       "    <tr>\n",
       "      <th>0</th>\n",
       "      <td>{'name': 'Olivia Boyle', 'age': 112}</td>\n",
       "    </tr>\n",
       "    <tr>\n",
       "      <th>1</th>\n",
       "      <td>{'name': 'Gabriel Petersen', 'age': 23}</td>\n",
       "    </tr>\n",
       "    <tr>\n",
       "      <th>2</th>\n",
       "      <td>{'name': 'William Henderson', 'age': 100}</td>\n",
       "    </tr>\n",
       "    <tr>\n",
       "      <th>3</th>\n",
       "      <td>{'name': 'Robert Johnson', 'age': 20}</td>\n",
       "    </tr>\n",
       "    <tr>\n",
       "      <th>4</th>\n",
       "      <td>{'name': 'Angelica Zimmerman', 'age': 88}</td>\n",
       "    </tr>\n",
       "    <tr>\n",
       "      <th>5</th>\n",
       "      <td>{'name': 'Joshua Bailey', 'age': 105}</td>\n",
       "    </tr>\n",
       "    <tr>\n",
       "      <th>6</th>\n",
       "      <td>{'name': 'Russell Mann', 'age': 16}</td>\n",
       "    </tr>\n",
       "    <tr>\n",
       "      <th>7</th>\n",
       "      <td>{'name': 'James Klein', 'age': 16}</td>\n",
       "    </tr>\n",
       "    <tr>\n",
       "      <th>8</th>\n",
       "      <td>{'name': 'Maria Hood', 'age': 88}</td>\n",
       "    </tr>\n",
       "    <tr>\n",
       "      <th>9</th>\n",
       "      <td>{'name': 'Latasha Moon', 'age': 30}</td>\n",
       "    </tr>\n",
       "  </tbody>\n",
       "</table>\n",
       "</div>"
      ],
      "text/plain": [
       "                                     records\n",
       "0       {'name': 'Olivia Boyle', 'age': 112}\n",
       "1    {'name': 'Gabriel Petersen', 'age': 23}\n",
       "2  {'name': 'William Henderson', 'age': 100}\n",
       "3      {'name': 'Robert Johnson', 'age': 20}\n",
       "4  {'name': 'Angelica Zimmerman', 'age': 88}\n",
       "5      {'name': 'Joshua Bailey', 'age': 105}\n",
       "6        {'name': 'Russell Mann', 'age': 16}\n",
       "7         {'name': 'James Klein', 'age': 16}\n",
       "8          {'name': 'Maria Hood', 'age': 88}\n",
       "9        {'name': 'Latasha Moon', 'age': 30}"
      ]
     },
     "execution_count": 51,
     "metadata": {},
     "output_type": "execute_result"
    }
   ],
   "source": [
    "df = pd.read_json('data2.json')\n",
    "df"
   ]
  },
  {
   "cell_type": "code",
   "execution_count": 52,
   "id": "483d5b52",
   "metadata": {},
   "outputs": [
    {
     "data": {
      "text/plain": [
       "0         {'name': 'Olivia Boyle', 'age': 112}\n",
       "1      {'name': 'Gabriel Petersen', 'age': 23}\n",
       "2    {'name': 'William Henderson', 'age': 100}\n",
       "3        {'name': 'Robert Johnson', 'age': 20}\n",
       "4    {'name': 'Angelica Zimmerman', 'age': 88}\n",
       "5        {'name': 'Joshua Bailey', 'age': 105}\n",
       "6          {'name': 'Russell Mann', 'age': 16}\n",
       "7           {'name': 'James Klein', 'age': 16}\n",
       "8            {'name': 'Maria Hood', 'age': 88}\n",
       "9          {'name': 'Latasha Moon', 'age': 30}\n",
       "Name: records, dtype: object"
      ]
     },
     "execution_count": 52,
     "metadata": {},
     "output_type": "execute_result"
    }
   ],
   "source": [
    "df['records']"
   ]
  },
  {
   "cell_type": "markdown",
   "id": "624ca3db",
   "metadata": {},
   "source": [
    "Simply reading by read_json will have the structure above, and this is why normalization is needed.\n",
    "\n",
    "https://pandas.pydata.org/docs/reference/api/pandas.json_normalize.html"
   ]
  },
  {
   "cell_type": "code",
   "execution_count": 58,
   "id": "12654457",
   "metadata": {},
   "outputs": [],
   "source": [
    "df = pd.json_normalize(df['records'])"
   ]
  },
  {
   "cell_type": "code",
   "execution_count": 60,
   "id": "fdc4c2bc",
   "metadata": {},
   "outputs": [
    {
     "data": {
      "text/plain": [
       "'{\"name\":{\"0\":\"Olivia Boyle\",\"1\":\"Gabriel Petersen\",\"2\":\"William Henderson\"},\"age\":{\"0\":112,\"1\":23,\"2\":100}}'"
      ]
     },
     "execution_count": 60,
     "metadata": {},
     "output_type": "execute_result"
    }
   ],
   "source": [
    "df.head(3).to_json()"
   ]
  },
  {
   "cell_type": "code",
   "execution_count": 61,
   "id": "a800b13c",
   "metadata": {},
   "outputs": [
    {
     "data": {
      "text/plain": [
       "'[{\"name\":\"Olivia Boyle\",\"age\":112},{\"name\":\"Gabriel Petersen\",\"age\":23},{\"name\":\"William Henderson\",\"age\":100}]'"
      ]
     },
     "execution_count": 61,
     "metadata": {},
     "output_type": "execute_result"
    }
   ],
   "source": [
    "df.head(3).to_json(orient='records')"
   ]
  }
 ],
 "metadata": {
  "kernelspec": {
   "display_name": "Python 3 (ipykernel)",
   "language": "python",
   "name": "python3"
  },
  "language_info": {
   "codemirror_mode": {
    "name": "ipython",
    "version": 3
   },
   "file_extension": ".py",
   "mimetype": "text/x-python",
   "name": "python",
   "nbconvert_exporter": "python",
   "pygments_lexer": "ipython3",
   "version": "3.8.10"
  }
 },
 "nbformat": 4,
 "nbformat_minor": 5
}
